{
 "cells": [
  {
   "cell_type": "code",
   "execution_count": 10,
   "metadata": {},
   "outputs": [
    {
     "name": "stdout",
     "output_type": "stream",
     "text": [
      "ddd\n",
      "Hello Justin,\n",
      "Thank you for joining cfe.sh. We are very\n",
      "happy to have you with us.\n",
      "\n"
     ]
    }
   ],
   "source": [
    "def myPrint(txt: str):\n",
    "  print(txt)\n",
    "\n",
    "myPrint(\"ddd\")\n",
    "\n",
    "msg_template = \"\"\"Hello {name},\n",
    "Thank you for joining {website}. We are very\n",
    "happy to have you with us.\n",
    "\"\"\"\n",
    "def format_msg(my_name=\"Justin\", my_website=\"cfe.sh\"):\n",
    "    my_msg = msg_template.format(name=my_name, website=my_website)\n",
    "    return my_msg\n",
    "print(format_msg())"
   ]
  }
 ],
 "metadata": {
  "interpreter": {
   "hash": "b0fa6594d8f4cbf19f97940f81e996739fb7646882a419484c72d19e05852a7e"
  },
  "kernelspec": {
   "display_name": "Python 3.9.7 64-bit",
   "language": "python",
   "name": "python3"
  },
  "language_info": {
   "codemirror_mode": {
    "name": "ipython",
    "version": 3
   },
   "file_extension": ".py",
   "mimetype": "text/x-python",
   "name": "python",
   "nbconvert_exporter": "python",
   "pygments_lexer": "ipython3",
   "version": "3.9.7"
  },
  "orig_nbformat": 4
 },
 "nbformat": 4,
 "nbformat_minor": 2
}
