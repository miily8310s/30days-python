{
 "cells": [
  {
   "cell_type": "code",
   "execution_count": 17,
   "metadata": {},
   "outputs": [
    {
     "name": "stdout",
     "output_type": "stream",
     "text": [
      "3.14523423\n",
      "3.145234\n",
      "3.15\n",
      "3.15\n",
      "3.1452\n"
     ]
    }
   ],
   "source": [
    "template = \"\"\"Hello there,\n",
    "  {name} this is an amazing way to do\n",
    "  subbing my cool items.\"\"\"\n",
    "# print(template.format(name='J'))\n",
    "pi = 3.14523423\n",
    "print(f'{pi}')\n",
    "print('{:f}'.format(pi))\n",
    "# 小数点第3位で四捨五入\n",
    "print('{:.2f}'.format(pi))\n",
    "print(format(pi, '.2f'))\n",
    "# 小数点第5位で四捨五入\n",
    "print('{:.4f}'.format(pi))"
   ]
  }
 ],
 "metadata": {
  "interpreter": {
   "hash": "b0fa6594d8f4cbf19f97940f81e996739fb7646882a419484c72d19e05852a7e"
  },
  "kernelspec": {
   "display_name": "Python 3.9.7 64-bit",
   "language": "python",
   "name": "python3"
  },
  "language_info": {
   "codemirror_mode": {
    "name": "ipython",
    "version": 3
   },
   "file_extension": ".py",
   "mimetype": "text/x-python",
   "name": "python",
   "nbconvert_exporter": "python",
   "pygments_lexer": "ipython3",
   "version": "3.9.7"
  },
  "orig_nbformat": 4
 },
 "nbformat": 4,
 "nbformat_minor": 2
}
